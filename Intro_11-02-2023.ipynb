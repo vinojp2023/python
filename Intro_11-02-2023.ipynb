{
 "cells": [
  {
   "cell_type": "code",
   "execution_count": 1,
   "id": "23e52acc",
   "metadata": {},
   "outputs": [
    {
     "name": "stdout",
     "output_type": "stream",
     "text": [
      "hello\n"
     ]
    }
   ],
   "source": [
    "print('hello')"
   ]
  },
  {
   "cell_type": "code",
   "execution_count": 2,
   "id": "3dfb2625",
   "metadata": {},
   "outputs": [
    {
     "name": "stdout",
     "output_type": "stream",
     "text": [
      "hi hello welcome\n"
     ]
    }
   ],
   "source": [
    "print('hi hello welcome') "
   ]
  },
  {
   "cell_type": "code",
   "execution_count": 4,
   "id": "6c7b0c5e",
   "metadata": {},
   "outputs": [
    {
     "name": "stdout",
     "output_type": "stream",
     "text": [
      "today vinodhini started her first day training \n",
      " welcome back \n"
     ]
    }
   ],
   "source": [
    "print('today vinodhini started her first day training \\n welcome back ')"
   ]
  },
  {
   "cell_type": "code",
   "execution_count": 5,
   "id": "5d8ffb83",
   "metadata": {},
   "outputs": [
    {
     "name": "stdout",
     "output_type": "stream",
     "text": [
      "jp\n",
      "hi\n"
     ]
    }
   ],
   "source": [
    "#this is to print jp and hi\n",
    "print('jp')\n",
    "\n",
    "print('vino')\n",
    "print('hi')"
   ]
  },
  {
   "cell_type": "code",
   "execution_count": 24,
   "id": "e7d64e4d",
   "metadata": {},
   "outputs": [
    {
     "name": "stdout",
     "output_type": "stream",
     "text": [
      "hi\n",
      "yes\n",
      "no\n"
     ]
    }
   ],
   "source": [
    "print('hi\\nyes\\nno')"
   ]
  },
  {
   "cell_type": "code",
   "execution_count": 23,
   "id": "f716674d",
   "metadata": {},
   "outputs": [
    {
     "name": "stdout",
     "output_type": "stream",
     "text": [
      "hi\n",
      "welcome\n",
      "dear\n",
      "\n"
     ]
    }
   ],
   "source": [
    "print('hi\\nwelcome\\ndear\\n')"
   ]
  },
  {
   "cell_type": "code",
   "execution_count": 8,
   "id": "80c296bc",
   "metadata": {},
   "outputs": [
    {
     "name": "stdout",
     "output_type": "stream",
     "text": [
      "hi\n",
      "hello\n",
      "welcome\n"
     ]
    }
   ],
   "source": [
    "print('hi\\nhello\\nwelcome')"
   ]
  },
  {
   "cell_type": "code",
   "execution_count": 9,
   "id": "8c259774",
   "metadata": {},
   "outputs": [
    {
     "name": "stdout",
     "output_type": "stream",
     "text": [
      "hi\thello\twelcome\n"
     ]
    }
   ],
   "source": [
    "print('hi\\thello\\twelcome')"
   ]
  },
  {
   "cell_type": "code",
   "execution_count": 14,
   "id": "b68dc59b",
   "metadata": {},
   "outputs": [
    {
     "name": "stdout",
     "output_type": "stream",
     "text": [
      "hi \b hello\b welcome\n"
     ]
    }
   ],
   "source": [
    "print('hi \\b hello\\b welcome' )"
   ]
  },
  {
   "cell_type": "code",
   "execution_count": 19,
   "id": "01fdaf91",
   "metadata": {},
   "outputs": [
    {
     "name": "stderr",
     "output_type": "stream",
     "text": [
      "hello\n"
     ]
    },
    {
     "name": "stdout",
     "output_type": "stream",
     "text": [
      "hello\n"
     ]
    }
   ],
   "source": [
    "import logging\n",
    "logger =logging.getLogger()\n",
    "print('hello')\n",
    "logger.error(\"hello\")"
   ]
  },
  {
   "cell_type": "code",
   "execution_count": null,
   "id": "68dac0ce",
   "metadata": {},
   "outputs": [],
   "source": []
  }
 ],
 "metadata": {
  "kernelspec": {
   "display_name": "Python 3 (ipykernel)",
   "language": "python",
   "name": "python3"
  },
  "language_info": {
   "codemirror_mode": {
    "name": "ipython",
    "version": 3
   },
   "file_extension": ".py",
   "mimetype": "text/x-python",
   "name": "python",
   "nbconvert_exporter": "python",
   "pygments_lexer": "ipython3",
   "version": "3.9.13"
  }
 },
 "nbformat": 4,
 "nbformat_minor": 5
}
