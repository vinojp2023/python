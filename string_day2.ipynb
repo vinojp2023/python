{
 "cells": [
  {
   "cell_type": "code",
   "execution_count": 33,
   "id": "430c2763",
   "metadata": {},
   "outputs": [],
   "source": [
    "a=\"welcome today class\"\n",
    "#a-variable\n",
    "##value-data\n",
    "#data types"
   ]
  },
  {
   "cell_type": "code",
   "execution_count": 34,
   "id": "3e4fd769",
   "metadata": {},
   "outputs": [],
   "source": [
    "#string-something comes in quotes\n",
    "a=\"test\""
   ]
  },
  {
   "cell_type": "code",
   "execution_count": 35,
   "id": "21f2661d",
   "metadata": {},
   "outputs": [
    {
     "name": "stdout",
     "output_type": "stream",
     "text": [
      "<class 'str'>\n"
     ]
    }
   ],
   "source": [
    "print(type(a))"
   ]
  },
  {
   "cell_type": "code",
   "execution_count": 36,
   "id": "2e95d473",
   "metadata": {},
   "outputs": [
    {
     "name": "stdout",
     "output_type": "stream",
     "text": [
      "True\n"
     ]
    }
   ],
   "source": [
    "print(isinstance(a,str))"
   ]
  },
  {
   "cell_type": "code",
   "execution_count": 37,
   "id": "37ace1ad",
   "metadata": {},
   "outputs": [],
   "source": [
    "a=\"VinodhiniJayaprakash\""
   ]
  },
  {
   "cell_type": "code",
   "execution_count": 38,
   "id": "470fb559",
   "metadata": {},
   "outputs": [
    {
     "name": "stdout",
     "output_type": "stream",
     "text": [
      "20\n",
      "J\n",
      "y\n",
      "['J', 'V', 'a', 'a', 'a', 'a', 'd', 'h', 'h', 'i', 'i', 'i', 'k', 'n', 'n', 'o', 'p', 'r', 's', 'y']\n"
     ]
    }
   ],
   "source": [
    "print(len(a)) #to find the length of variables\n",
    "print(min(a)) #to find the minimum of variables\n",
    "print(max(a)) #to find the maximum of variables\n",
    "print(sorted(a)) #to find the sort of variables"
   ]
  },
  {
   "cell_type": "code",
   "execution_count": 15,
   "id": "9583e715",
   "metadata": {},
   "outputs": [
    {
     "name": "stdout",
     "output_type": "stream",
     "text": [
      "True\n",
      "True\n",
      "False\n"
     ]
    }
   ],
   "source": [
    "print(a.isalpha())#checks the string is alaphatic or not\n",
    "print(a.isalnum())#checks the string is alaphatic or numeric\n",
    "print(a.isdigit())#checks the string hasnumber"
   ]
  },
  {
   "cell_type": "code",
   "execution_count": 18,
   "id": "904bba0a",
   "metadata": {},
   "outputs": [
    {
     "name": "stdout",
     "output_type": "stream",
     "text": [
      "False\n",
      "False\n",
      "VINODHINIJAYAPRAKASH\n",
      "vinodhinijayaprakash\n",
      "vINODHINIjAYAPRAKASH\n"
     ]
    }
   ],
   "source": [
    "print(a.isupper()) #upper case or not\n",
    "print(a.islower()) #lower case or not\n",
    "print(a.upper()) #makes the words to upper case\n",
    "print(a.lower()) #makes all the words to lower case\n",
    "print(a.swapcase()) #swap the case"
   ]
  },
  {
   "cell_type": "code",
   "execution_count": 19,
   "id": "91c237e1",
   "metadata": {},
   "outputs": [
    {
     "name": "stdout",
     "output_type": "stream",
     "text": [
      "Welcome Ti Today Class\n",
      "Welcome ti today class\n"
     ]
    }
   ],
   "source": [
    "a=\"welcome ti today class\"\n",
    "print(a.title()) # to make a tittle of variables \n",
    "print(a.capitalize()) # only 1st word change as capital letter of sentence"
   ]
  },
  {
   "cell_type": "code",
   "execution_count": null,
   "id": "cb6aa0d4",
   "metadata": {},
   "outputs": [],
   "source": [
    "# FORWARD INDEXING\n",
    "#------------------>\n",
    "# O 1 2 3 4 5\n",
    "# P Y T H O N\n",
    "# -6 -5 -4 -3 -2  -1\n",
    "#<--------------------\n",
    "# REVERSE INDEXING"
   ]
  },
  {
   "cell_type": "code",
   "execution_count": 20,
   "id": "c20d902b",
   "metadata": {},
   "outputs": [
    {
     "name": "stdout",
     "output_type": "stream",
     "text": [
      "i\n"
     ]
    }
   ],
   "source": [
    "a=\"VinodhiniJayaprakash\"\n",
    "print(a[8])# to find 8th letter of variable"
   ]
  },
  {
   "cell_type": "code",
   "execution_count": null,
   "id": "69f0741b",
   "metadata": {},
   "outputs": [],
   "source": [
    "## start:end:interval"
   ]
  },
  {
   "cell_type": "code",
   "execution_count": 21,
   "id": "ceb27e5d",
   "metadata": {},
   "outputs": [
    {
     "name": "stdout",
     "output_type": "stream",
     "text": [
      "nodhiniJa\n"
     ]
    }
   ],
   "source": [
    "print(a[2:11])# to find from 2 to 11 from variable"
   ]
  },
  {
   "cell_type": "code",
   "execution_count": 22,
   "id": "fbd23fe9",
   "metadata": {},
   "outputs": [
    {
     "name": "stdout",
     "output_type": "stream",
     "text": [
      "VinodhiniJayaprakash\n"
     ]
    }
   ],
   "source": [
    "print(a[:])# read everything"
   ]
  },
  {
   "cell_type": "code",
   "execution_count": 23,
   "id": "a61ff37b",
   "metadata": {},
   "outputs": [
    {
     "name": "stdout",
     "output_type": "stream",
     "text": [
      "h\n"
     ]
    }
   ],
   "source": [
    "print(a[-1])#reverse interval to find last word"
   ]
  },
  {
   "cell_type": "code",
   "execution_count": 24,
   "id": "db536379",
   "metadata": {},
   "outputs": [
    {
     "name": "stdout",
     "output_type": "stream",
     "text": [
      "VoiJaas\n"
     ]
    }
   ],
   "source": [
    "print(a[::3]) # to find interval of every 3rd charactor "
   ]
  },
  {
   "cell_type": "code",
   "execution_count": 26,
   "id": "36833fe6",
   "metadata": {},
   "outputs": [
    {
     "name": "stdout",
     "output_type": "stream",
     "text": [
      "hsakarpayaJinihdoniV\n"
     ]
    }
   ],
   "source": [
    "a=\"VinodhiniJayaprakash\"\n",
    "print(a[::-1]) # to find interval of every 1rd charactor from last"
   ]
  },
  {
   "cell_type": "code",
   "execution_count": 4,
   "id": "d5749f8f",
   "metadata": {},
   "outputs": [
    {
     "name": "stdout",
     "output_type": "stream",
     "text": [
      "2\n"
     ]
    }
   ],
   "source": [
    "a=\"VinodhiniJayaprakash\"\n",
    "print(a.index(\"n\")) # TO FIND POISION of 1st n from variable"
   ]
  },
  {
   "cell_type": "code",
   "execution_count": 34,
   "id": "20fdce90",
   "metadata": {},
   "outputs": [
    {
     "name": "stdout",
     "output_type": "stream",
     "text": [
      "10\n",
      "12\n",
      "10\n"
     ]
    }
   ],
   "source": [
    "print(a.index(\"a\")) # to find the position of a\n",
    "print(a.index(\"a\",11)) # to find the position of after 11th charactor \n",
    "print(a.index(\"a\",3,19)) #\n"
   ]
  },
  {
   "cell_type": "code",
   "execution_count": 32,
   "id": "b09eb8ba",
   "metadata": {},
   "outputs": [
    {
     "ename": "NameError",
     "evalue": "name 'index' is not defined",
     "output_type": "error",
     "traceback": [
      "\u001b[1;31m---------------------------------------------------------------------------\u001b[0m",
      "\u001b[1;31mNameError\u001b[0m                                 Traceback (most recent call last)",
      "\u001b[1;32m~\\AppData\\Local\\Temp\\ipykernel_18804\\980391478.py\u001b[0m in \u001b[0;36m<module>\u001b[1;34m\u001b[0m\n\u001b[1;32m----> 1\u001b[1;33m \u001b[0mprint\u001b[0m\u001b[1;33m(\u001b[0m\u001b[0ma\u001b[0m\u001b[1;33m,\u001b[0m\u001b[0mindex\u001b[0m\u001b[1;33m(\u001b[0m\u001b[1;34m\"z\"\u001b[0m\u001b[1;33m)\u001b[0m\u001b[1;33m)\u001b[0m\u001b[1;33m\u001b[0m\u001b[1;33m\u001b[0m\u001b[0m\n\u001b[0m",
      "\u001b[1;31mNameError\u001b[0m: name 'index' is not defined"
     ]
    }
   ],
   "source": [
    "print(a,index(\"z\"))"
   ]
  },
  {
   "cell_type": "code",
   "execution_count": 35,
   "id": "962c78c2",
   "metadata": {},
   "outputs": [
    {
     "name": "stdout",
     "output_type": "stream",
     "text": [
      "7\n",
      "17\n"
     ]
    }
   ],
   "source": [
    "a=\"VinodhiniJayaprakash\"\n",
    "print(a.rindex(\"n\"))\n",
    "print(a.rindex(\"a\"))\n",
    "#print(a.index(\"a,start,end\"))"
   ]
  },
  {
   "cell_type": "code",
   "execution_count": 36,
   "id": "cb53506a",
   "metadata": {},
   "outputs": [
    {
     "ename": "ValueError",
     "evalue": "substring not found",
     "output_type": "error",
     "traceback": [
      "\u001b[1;31m---------------------------------------------------------------------------\u001b[0m",
      "\u001b[1;31mValueError\u001b[0m                                Traceback (most recent call last)",
      "\u001b[1;32m~\\AppData\\Local\\Temp\\ipykernel_18804\\1229597181.py\u001b[0m in \u001b[0;36m<module>\u001b[1;34m\u001b[0m\n\u001b[1;32m----> 1\u001b[1;33m \u001b[0mprint\u001b[0m\u001b[1;33m(\u001b[0m\u001b[0ma\u001b[0m\u001b[1;33m.\u001b[0m\u001b[0mrindex\u001b[0m\u001b[1;33m(\u001b[0m\u001b[1;34m\"z\"\u001b[0m\u001b[1;33m)\u001b[0m\u001b[1;33m)\u001b[0m\u001b[1;33m\u001b[0m\u001b[1;33m\u001b[0m\u001b[0m\n\u001b[0m",
      "\u001b[1;31mValueError\u001b[0m: substring not found"
     ]
    }
   ],
   "source": [
    "print(a.rindex(\"z\"))"
   ]
  },
  {
   "cell_type": "code",
   "execution_count": 37,
   "id": "154460d8",
   "metadata": {},
   "outputs": [
    {
     "name": "stdout",
     "output_type": "stream",
     "text": [
      "2\n",
      "2\n",
      "-1\n"
     ]
    }
   ],
   "source": [
    "#find,r find\n",
    "#find and index is same - unless find returns - if the substring is not found\n",
    "print(a.index(\"n\"))\n",
    "print(a.find(\"n\"))\n",
    "print(a.find(\"z\"))"
   ]
  },
  {
   "cell_type": "code",
   "execution_count": 39,
   "id": "5b68b0de",
   "metadata": {},
   "outputs": [
    {
     "name": "stdout",
     "output_type": "stream",
     "text": [
      "7\n",
      "7\n",
      "-1\n"
     ]
    }
   ],
   "source": [
    "print(a.rindex(\"n\"))\n",
    "print(a.rfind(\"n\"))\n",
    "print(a.rfind(\"z\"))"
   ]
  },
  {
   "cell_type": "code",
   "execution_count": 1,
   "id": "8c16febf",
   "metadata": {},
   "outputs": [
    {
     "name": "stdout",
     "output_type": "stream",
     "text": [
      "5\n"
     ]
    }
   ],
   "source": [
    "a=\"VinodhiniaJayaprakash\"\n",
    "print(a.count(\"a\")) #counts a words\n"
   ]
  },
  {
   "cell_type": "code",
   "execution_count": 2,
   "id": "7aed066e",
   "metadata": {},
   "outputs": [
    {
     "name": "stdout",
     "output_type": "stream",
     "text": [
      "5\n",
      "vinodhini$j$y$pr$k$sh\n",
      "vinodhini$jayaprakash\n",
      "vinodhini$j$yaprakash\n"
     ]
    }
   ],
   "source": [
    "a=\"vinodhiniajayaprakash\"\n",
    "print(a.count(\"a\")) # To count the words\n",
    "print(a.replace(\"a\",\"$\")) #find and replace\n",
    "print(a.replace(\"a\",\"$\",1)) #find and replace first accurance\n",
    "print(a.replace(\"a\",\"$\",2)) # find and replace first 2 accurance"
   ]
  },
  {
   "cell_type": "code",
   "execution_count": 4,
   "id": "091e7a53",
   "metadata": {},
   "outputs": [
    {
     "name": "stdout",
     "output_type": "stream",
     "text": [
      "['vinodhini', 'j', 'y', 'pr', 'k', 'sh']\n",
      "['vinodhini', 'jayaprakash']\n"
     ]
    }
   ],
   "source": [
    "print(a.split(\"a\")) # to spilt the word where a is coming \n",
    "print(a.split(\"a\",1)) #split only first a before word and after words"
   ]
  },
  {
   "cell_type": "code",
   "execution_count": 9,
   "id": "352b6bbb",
   "metadata": {},
   "outputs": [
    {
     "name": "stdout",
     "output_type": "stream",
     "text": [
      "False\n",
      "False\n"
     ]
    }
   ],
   "source": [
    "print(a.startswith(\"s\")) #to find variable start with s word\n",
    "print(a.endswith(\"r\")) #to find variable end with r word"
   ]
  },
  {
   "cell_type": "code",
   "execution_count": 20,
   "id": "7674a5b7",
   "metadata": {},
   "outputs": [
    {
     "name": "stdout",
     "output_type": "stream",
     "text": [
      "good morning dinesh,have a great sunday\n",
      "good morning sunday,have a great dinesh\n"
     ]
    }
   ],
   "source": [
    "#Formating in string\n",
    "\n",
    "print(\"good morning {},have a great {}\". format(\"dinesh\",\"sunday\"))\n",
    "print(\"good morning {1},have a great {0}\". format(\"dinesh\",\"sunday\"))"
   ]
  },
  {
   "cell_type": "code",
   "execution_count": 23,
   "id": "8f03ae09",
   "metadata": {},
   "outputs": [
    {
     "name": "stdout",
     "output_type": "stream",
     "text": [
      "good morning dinesh, have a great sunprintday\n"
     ]
    }
   ],
   "source": [
    "name=\"dinesh\"\n",
    "day=\"sunprintday\"\n",
    "print(f\"good morning {name}, have a great {day}\")"
   ]
  },
  {
   "cell_type": "code",
   "execution_count": 24,
   "id": "a0296e2a",
   "metadata": {},
   "outputs": [
    {
     "name": "stdout",
     "output_type": "stream",
     "text": [
      "good morning{} , have a great {sunday}\n"
     ]
    }
   ],
   "source": [
    "print(\"good morning{} , have a great {sunday}\")"
   ]
  },
  {
   "cell_type": "code",
   "execution_count": 25,
   "id": "3a2e54f8",
   "metadata": {},
   "outputs": [
    {
     "name": "stdout",
     "output_type": "stream",
     "text": [
      "<class 'int'>\n",
      "True\n"
     ]
    }
   ],
   "source": [
    "# int numbers\n",
    "a=123\n",
    "print(type(a))\n",
    "print(isinstance(a,int))"
   ]
  },
  {
   "cell_type": "code",
   "execution_count": 27,
   "id": "b453dd9e",
   "metadata": {},
   "outputs": [
    {
     "name": "stdout",
     "output_type": "stream",
     "text": [
      "<class 'str'>\n",
      "False\n",
      "True\n"
     ]
    }
   ],
   "source": [
    "a=\"123\"\n",
    "print(type(a))\n",
    "print(isinstance(a,int))\n",
    "print(isinstance(a,str))"
   ]
  },
  {
   "cell_type": "code",
   "execution_count": 28,
   "id": "7f75a2b7",
   "metadata": {},
   "outputs": [
    {
     "name": "stdout",
     "output_type": "stream",
     "text": [
      "True\n"
     ]
    }
   ],
   "source": [
    "a=\"123\"\n",
    "print(a.isdigit())"
   ]
  },
  {
   "cell_type": "code",
   "execution_count": 29,
   "id": "10ae7551",
   "metadata": {},
   "outputs": [
    {
     "ename": "AttributeError",
     "evalue": "'int' object has no attribute 'isdigit'",
     "output_type": "error",
     "traceback": [
      "\u001b[1;31m---------------------------------------------------------------------------\u001b[0m",
      "\u001b[1;31mAttributeError\u001b[0m                            Traceback (most recent call last)",
      "\u001b[1;32m~\\AppData\\Local\\Temp\\ipykernel_14612\\3934276852.py\u001b[0m in \u001b[0;36m<module>\u001b[1;34m\u001b[0m\n\u001b[0;32m      1\u001b[0m \u001b[0ma\u001b[0m\u001b[1;33m=\u001b[0m\u001b[1;36m123\u001b[0m\u001b[1;33m\u001b[0m\u001b[1;33m\u001b[0m\u001b[0m\n\u001b[1;32m----> 2\u001b[1;33m \u001b[0mprint\u001b[0m\u001b[1;33m(\u001b[0m\u001b[0ma\u001b[0m\u001b[1;33m.\u001b[0m\u001b[0misdigit\u001b[0m\u001b[1;33m(\u001b[0m\u001b[1;33m)\u001b[0m\u001b[1;33m)\u001b[0m\u001b[1;33m\u001b[0m\u001b[1;33m\u001b[0m\u001b[0m\n\u001b[0m",
      "\u001b[1;31mAttributeError\u001b[0m: 'int' object has no attribute 'isdigit'"
     ]
    }
   ],
   "source": [
    "a=123\n",
    "print(a.isdigit())"
   ]
  },
  {
   "cell_type": "code",
   "execution_count": 37,
   "id": "d9e0c912",
   "metadata": {},
   "outputs": [
    {
     "name": "stdout",
     "output_type": "stream",
     "text": [
      "123\n",
      "123.0\n"
     ]
    }
   ],
   "source": [
    "a=\"123\"\n",
    "print(int(a))\n",
    "print(float(a))"
   ]
  },
  {
   "cell_type": "code",
   "execution_count": 35,
   "id": "3d31a862",
   "metadata": {},
   "outputs": [
    {
     "name": "stdout",
     "output_type": "stream",
     "text": [
      "<class 'float'>\n"
     ]
    }
   ],
   "source": [
    "a=123.45\n",
    "print((type(a)))"
   ]
  },
  {
   "cell_type": "code",
   "execution_count": 33,
   "id": "af615286",
   "metadata": {},
   "outputs": [
    {
     "ename": "ValueError",
     "evalue": "invalid literal for int() with base 10: 'test'",
     "output_type": "error",
     "traceback": [
      "\u001b[1;31m---------------------------------------------------------------------------\u001b[0m",
      "\u001b[1;31mValueError\u001b[0m                                Traceback (most recent call last)",
      "\u001b[1;32m~\\AppData\\Local\\Temp\\ipykernel_14612\\2061645813.py\u001b[0m in \u001b[0;36m<module>\u001b[1;34m\u001b[0m\n\u001b[0;32m      1\u001b[0m \u001b[0ma\u001b[0m\u001b[1;33m=\u001b[0m\u001b[1;34m\"test\"\u001b[0m\u001b[1;33m\u001b[0m\u001b[1;33m\u001b[0m\u001b[0m\n\u001b[1;32m----> 2\u001b[1;33m \u001b[0mprint\u001b[0m\u001b[1;33m(\u001b[0m\u001b[0mint\u001b[0m\u001b[1;33m(\u001b[0m\u001b[0ma\u001b[0m\u001b[1;33m)\u001b[0m\u001b[1;33m)\u001b[0m\u001b[1;33m\u001b[0m\u001b[1;33m\u001b[0m\u001b[0m\n\u001b[0m",
      "\u001b[1;31mValueError\u001b[0m: invalid literal for int() with base 10: 'test'"
     ]
    }
   ],
   "source": [
    "a=\"test\"\n",
    "print(int(a))"
   ]
  },
  {
   "cell_type": "code",
   "execution_count": 38,
   "id": "35f6e100",
   "metadata": {},
   "outputs": [
    {
     "name": "stdout",
     "output_type": "stream",
     "text": [
      "123\n"
     ]
    }
   ],
   "source": [
    "print(a)"
   ]
  },
  {
   "cell_type": "code",
   "execution_count": 5,
   "id": "628e867a",
   "metadata": {},
   "outputs": [
    {
     "name": "stdout",
     "output_type": "stream",
     "text": [
      "<class 'str'>\n"
     ]
    }
   ],
   "source": [
    "print(type(a))"
   ]
  },
  {
   "cell_type": "code",
   "execution_count": 7,
   "id": "4a298f79",
   "metadata": {},
   "outputs": [
    {
     "name": "stdout",
     "output_type": "stream",
     "text": [
      "Name:Vinodhini\n"
     ]
    }
   ],
   "source": [
    "a = input(\"Name:\")"
   ]
  },
  {
   "cell_type": "code",
   "execution_count": 8,
   "id": "a1b1b97f",
   "metadata": {},
   "outputs": [
    {
     "name": "stdout",
     "output_type": "stream",
     "text": [
      "Age:31\n"
     ]
    }
   ],
   "source": [
    "b = input(\"Age:\")"
   ]
  },
  {
   "cell_type": "code",
   "execution_count": 10,
   "id": "9c2464d8",
   "metadata": {},
   "outputs": [
    {
     "name": "stdout",
     "output_type": "stream",
     "text": [
      "location:Chennai\n"
     ]
    }
   ],
   "source": [
    "c = input(\"location:\")"
   ]
  },
  {
   "cell_type": "code",
   "execution_count": 32,
   "id": "7aa5ef46",
   "metadata": {},
   "outputs": [
    {
     "name": "stdout",
     "output_type": "stream",
     "text": [
      "{'Vinodhini'} {'31'} {'Chennai'}\n",
      "Vinodhini 31 Chennai\n"
     ]
    }
   ],
   "source": [
    "print({a},{b},{c})\n",
    "print(a,b,c)"
   ]
  }
 ],
 "metadata": {
  "kernelspec": {
   "display_name": "Python 3 (ipykernel)",
   "language": "python",
   "name": "python3"
  },
  "language_info": {
   "codemirror_mode": {
    "name": "ipython",
    "version": 3
   },
   "file_extension": ".py",
   "mimetype": "text/x-python",
   "name": "python",
   "nbconvert_exporter": "python",
   "pygments_lexer": "ipython3",
   "version": "3.9.13"
  }
 },
 "nbformat": 4,
 "nbformat_minor": 5
}
