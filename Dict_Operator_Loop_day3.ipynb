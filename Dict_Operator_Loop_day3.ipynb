{
 "cells": [
  {
   "cell_type": "code",
   "execution_count": 1,
   "id": "99452cd6",
   "metadata": {},
   "outputs": [],
   "source": [
    "a=[[\"kiran\",\"20\",\"chennai\"],[\"madurai\",\"kumar\",\"45\"]]  #this is list"
   ]
  },
  {
   "cell_type": "code",
   "execution_count": 41,
   "id": "9238a400",
   "metadata": {},
   "outputs": [],
   "source": [
    "a={\"name\": \"kiran\", \"location\" : \"chennai\", \"age\" : \"20\"} #this is dictionary "
   ]
  },
  {
   "cell_type": "code",
   "execution_count": 42,
   "id": "a5b50827",
   "metadata": {},
   "outputs": [
    {
     "name": "stdout",
     "output_type": "stream",
     "text": [
      "<class 'dict'>\n"
     ]
    }
   ],
   "source": [
    "print(type(a))  #findig types"
   ]
  },
  {
   "cell_type": "code",
   "execution_count": 43,
   "id": "b5c95103",
   "metadata": {},
   "outputs": [
    {
     "name": "stdout",
     "output_type": "stream",
     "text": [
      "True\n"
     ]
    }
   ],
   "source": [
    "print(isinstance(a,dict)) # validating the types"
   ]
  },
  {
   "cell_type": "code",
   "execution_count": 283,
   "id": "f6c51216",
   "metadata": {},
   "outputs": [
    {
     "name": "stdout",
     "output_type": "stream",
     "text": [
      "chennai\n"
     ]
    }
   ],
   "source": [
    "a=[[\"kiran\",\"20\",\"chennai\"],[\"madurai\",\"kumar\",\"45\"]]  \n",
    "print(a[0][2])                # finding the 2nd word in the first portion of list. "
   ]
  },
  {
   "cell_type": "code",
   "execution_count": 290,
   "id": "778be8af",
   "metadata": {},
   "outputs": [
    {
     "name": "stdout",
     "output_type": "stream",
     "text": [
      "kiran\n",
      "kiran\n"
     ]
    }
   ],
   "source": [
    "a={\"name\": \"kiran\", \"location\" : \"chennai\", \"age\" : \"20\"}   \n",
    "print(a[\"name\"])\n",
    "print(a.get(\"name\"))     ## but in dictionary we no need to mention index position, just calling key name like (name, location & etc ) is enough like this."
   ]
  },
  {
   "cell_type": "code",
   "execution_count": 285,
   "id": "805a66a9",
   "metadata": {},
   "outputs": [
    {
     "ename": "KeyError",
     "evalue": "'salary'",
     "output_type": "error",
     "traceback": [
      "\u001b[1;31m---------------------------------------------------------------------------\u001b[0m",
      "\u001b[1;31mKeyError\u001b[0m                                  Traceback (most recent call last)",
      "\u001b[1;32m~\\AppData\\Local\\Temp\\ipykernel_22864\\224604861.py\u001b[0m in \u001b[0;36m<module>\u001b[1;34m\u001b[0m\n\u001b[1;32m----> 1\u001b[1;33m \u001b[0mprint\u001b[0m\u001b[1;33m(\u001b[0m\u001b[0ma\u001b[0m\u001b[1;33m[\u001b[0m\u001b[1;34m\"salary\"\u001b[0m\u001b[1;33m]\u001b[0m\u001b[1;33m)\u001b[0m  \u001b[1;31m# it will through error because in list salary not available\u001b[0m\u001b[1;33m\u001b[0m\u001b[1;33m\u001b[0m\u001b[0m\n\u001b[0m",
      "\u001b[1;31mKeyError\u001b[0m: 'salary'"
     ]
    }
   ],
   "source": [
    "print(a[\"salary\"])  # it will through error because in list salary not available "
   ]
  },
  {
   "cell_type": "code",
   "execution_count": 287,
   "id": "6a70ef67",
   "metadata": {},
   "outputs": [
    {
     "name": "stdout",
     "output_type": "stream",
     "text": [
      "None\n",
      "0\n"
     ]
    }
   ],
   "source": [
    "print(a.get(\"salary\"))  # when we use get even the key or values not there it will through none.\n",
    "print(a.get(\"salary\",0))  # instead of none we can give 0 or any number or any characters here to replace or display the values."
   ]
  },
  {
   "cell_type": "code",
   "execution_count": 21,
   "id": "31bd6d1d",
   "metadata": {},
   "outputs": [
    {
     "name": "stdout",
     "output_type": "stream",
     "text": [
      "dict_keys(['name', 'location', 'age'])\n",
      "dict_values(['kiran', 'chennai', '20'])\n",
      "dict_items([('name', 'kiran'), ('location', 'chennai'), ('age', '20')])\n"
     ]
    }
   ],
   "source": [
    "## keys , values, items will work dictionary\n",
    "\n",
    "print(a.keys())\n",
    "print(a.values())\n",
    "print(a.items())"
   ]
  },
  {
   "cell_type": "code",
   "execution_count": 22,
   "id": "fb124d54",
   "metadata": {},
   "outputs": [
    {
     "name": "stdout",
     "output_type": "stream",
     "text": [
      "3\n",
      "age\n",
      "name\n",
      "['age', 'location', 'name']\n"
     ]
    }
   ],
   "source": [
    "print(len(a))\n",
    "print(min(a))\n",
    "print(max(a))\n",
    "print(sorted(a))"
   ]
  },
  {
   "cell_type": "code",
   "execution_count": 291,
   "id": "41ea269c",
   "metadata": {},
   "outputs": [
    {
     "name": "stdout",
     "output_type": "stream",
     "text": [
      "{'name': 'kiran', 'location': 'chennai', 'age': '20'}\n"
     ]
    }
   ],
   "source": [
    "print(a)"
   ]
  },
  {
   "cell_type": "code",
   "execution_count": 292,
   "id": "d7849002",
   "metadata": {},
   "outputs": [
    {
     "name": "stdout",
     "output_type": "stream",
     "text": [
      "{'name': 'kiran', 'location': 'chennai', 'age': '20', 'salary': 100}\n"
     ]
    }
   ],
   "source": [
    "a[\"salary\"] =100 #adding extra values in dictionary (set)\n",
    "print(a)"
   ]
  },
  {
   "cell_type": "code",
   "execution_count": 293,
   "id": "939eadce",
   "metadata": {},
   "outputs": [
    {
     "name": "stdout",
     "output_type": "stream",
     "text": [
      "{'name': 'kiran', 'location': 'chennai', 'age': '20', 'salary': 200}\n"
     ]
    }
   ],
   "source": [
    "a[\"salary\"] =200  # changing values in dictionary (set)\n",
    "print(a)"
   ]
  },
  {
   "cell_type": "code",
   "execution_count": 294,
   "id": "98c3f626",
   "metadata": {},
   "outputs": [
    {
     "name": "stdout",
     "output_type": "stream",
     "text": [
      "{'name': 'kiran', 'location': 'chennai', 'age': '20'}\n"
     ]
    }
   ],
   "source": [
    "del a[\"salary\"]  # delete salary key & values in dictionary\n",
    "print(a)"
   ]
  },
  {
   "cell_type": "code",
   "execution_count": 314,
   "id": "6e8c9976",
   "metadata": {},
   "outputs": [
    {
     "name": "stdout",
     "output_type": "stream",
     "text": [
      "{'name': 'hello', 'location': 'chennai', 'age': '20', 'salary': 200}\n"
     ]
    }
   ],
   "source": [
    "a={'name': 'kiran', 'location': 'chennai', 'age': '20', 'salary': 200, \"name\" : \"test\", \"name\" : \"hello\",}  #the latest values only the dictionary will take\n",
    "print(a)"
   ]
  },
  {
   "cell_type": "code",
   "execution_count": 317,
   "id": "ef1c025f",
   "metadata": {},
   "outputs": [
    {
     "name": "stdout",
     "output_type": "stream",
     "text": [
      "{'name': 'hello', 'location': 'chennai', 'age': '20'}\n",
      "('salary', 200)\n"
     ]
    }
   ],
   "source": [
    "b=a.popitem()   # pop out the last values , for each run it will remove the itesm one by one. \n",
    "print(a)\n",
    "print(b)"
   ]
  },
  {
   "cell_type": "code",
   "execution_count": 318,
   "id": "ef3d09d2",
   "metadata": {},
   "outputs": [
    {
     "name": "stdout",
     "output_type": "stream",
     "text": [
      "{'one': 1, 'two': 2, 'three': 3}\n"
     ]
    }
   ],
   "source": [
    "a =[\"one\",\"two\",\"three\"]   \n",
    "b=[1,2,3]\n",
    "\n",
    "c=dict(zip(a,b))  # to combine both the values and giving result as dict but a & b no of columns should match .\n",
    "print(c)"
   ]
  },
  {
   "cell_type": "code",
   "execution_count": 37,
   "id": "e3f6f867",
   "metadata": {},
   "outputs": [],
   "source": [
    "##############data types\n",
    "#string\n",
    "#int\n",
    "#list\n",
    "#tuple\n",
    "#set\n",
    "#dict"
   ]
  },
  {
   "cell_type": "code",
   "execution_count": 44,
   "id": "e5f0e754",
   "metadata": {},
   "outputs": [],
   "source": [
    "### operators in python"
   ]
  },
  {
   "cell_type": "code",
   "execution_count": 319,
   "id": "45034b2d",
   "metadata": {},
   "outputs": [
    {
     "name": "stdout",
     "output_type": "stream",
     "text": [
      "7\n",
      "3\n",
      "10\n",
      "25\n",
      "2.5\n",
      "1\n",
      "2\n"
     ]
    }
   ],
   "source": [
    "## Arithmetic operator\n",
    "\n",
    "a=5\n",
    "b=2\n",
    "print(a+b)\n",
    "print(a-b)\n",
    "print(a*b)\n",
    "print(a**b) #exp, a^b\n",
    "print(a/b)\n",
    "print(a%b)\n",
    "print(a//b)  ##floor division --> quotient"
   ]
  },
  {
   "cell_type": "code",
   "execution_count": 46,
   "id": "5280d4bc",
   "metadata": {},
   "outputs": [
    {
     "name": "stdout",
     "output_type": "stream",
     "text": [
      "False\n",
      "True\n",
      "True\n",
      "True\n",
      "False\n",
      "False\n"
     ]
    }
   ],
   "source": [
    "# assignment operator\n",
    "\n",
    "a=4\n",
    "\n",
    "## relational operator \n",
    "a=5\n",
    "b=2\n",
    "print(a==b)\n",
    "print(a!=b)\n",
    "print(a>b)\n",
    "print(a>=b)\n",
    "print(a<b)\n",
    "print(a<=b)"
   ]
  },
  {
   "cell_type": "code",
   "execution_count": 49,
   "id": "b63c55e1",
   "metadata": {},
   "outputs": [
    {
     "name": "stdout",
     "output_type": "stream",
     "text": [
      "True\n",
      "False\n",
      "False\n",
      "False\n",
      "True\n"
     ]
    }
   ],
   "source": [
    "## logical\n",
    "## and\n",
    "## or\n",
    "## not\n",
    "\n",
    "print(True and True) # true\n",
    "print(True and False) #false\n",
    "print(True and False) #true\n",
    "print(not True)  #false\n",
    "print(not False) #true"
   ]
  },
  {
   "cell_type": "code",
   "execution_count": 50,
   "id": "6699d14c",
   "metadata": {},
   "outputs": [],
   "source": [
    "#### loops (if, while, for)\n",
    "## if  \n",
    "## while\n",
    "## for "
   ]
  },
  {
   "cell_type": "code",
   "execution_count": 51,
   "id": "bcc23b43",
   "metadata": {},
   "outputs": [],
   "source": [
    "## if loop --> decision making statement"
   ]
  },
  {
   "cell_type": "code",
   "execution_count": 61,
   "id": "a0928489",
   "metadata": {},
   "outputs": [
    {
     "name": "stdout",
     "output_type": "stream",
     "text": [
      "yes\n"
     ]
    }
   ],
   "source": [
    "name =\"kiran\"\n",
    "mark =\"50\"\n",
    "\n",
    "if name ==\"kiran\" and mark ==\"50\":    # == is relation operator and used to compare 2 values \":\" this symbol used for goto next line in the loop\n",
    "    print(\"yes\")\n",
    "else:\n",
    "    print(\"No\")"
   ]
  },
  {
   "cell_type": "code",
   "execution_count": 64,
   "id": "663c9d4a",
   "metadata": {},
   "outputs": [
    {
     "name": "stdout",
     "output_type": "stream",
     "text": [
      "second class\n"
     ]
    }
   ],
   "source": [
    "#nested if ( if inside if)\n",
    "\n",
    "name =\"kiran\"\n",
    "mark =50\n",
    "\n",
    "if name ==\"kiran\" and mark > 35:   \n",
    "    if mark > 60:\n",
    "        print(\"first class\")\n",
    "    else:\n",
    "        print(\"second class\")\n",
    "else:\n",
    "    print(\"fail\")\n"
   ]
  },
  {
   "cell_type": "code",
   "execution_count": 70,
   "id": "385dfee7",
   "metadata": {},
   "outputs": [
    {
     "name": "stdout",
     "output_type": "stream",
     "text": [
      "third class\n",
      "Yes\n"
     ]
    }
   ],
   "source": [
    "## if  -elif   if conditiion always check first conditions\n",
    "\n",
    "\n",
    "name= \"kiran\"\n",
    "mark =59\n",
    "if mark == 100:\n",
    "    print(\"centum\")\n",
    "elif mark >= 90:\n",
    "    print(\"A grade\")\n",
    "elif mark >= 60:\n",
    "    print(\"first class\")\n",
    "elif mark >= 40:\n",
    "    print (\"third class\")\n",
    "else:\n",
    "    print(\"Fail\")\n",
    "\n",
    "    \n",
    "if name ==\"kiran\":\n",
    "    print(\"Yes\")"
   ]
  },
  {
   "cell_type": "code",
   "execution_count": 74,
   "id": "4c83b092",
   "metadata": {},
   "outputs": [
    {
     "name": "stdout",
     "output_type": "stream",
     "text": [
      "1\n",
      "2\n",
      "3\n",
      "4\n"
     ]
    }
   ],
   "source": [
    "## In while loop make sure to break the loop , else it will go infinite\n",
    "\n",
    "a=1    \n",
    "while  a<5:   #if true it will go to loop \n",
    "    print(a)\n",
    "    a=a+1"
   ]
  },
  {
   "cell_type": "code",
   "execution_count": 77,
   "id": "5d10f7fa",
   "metadata": {},
   "outputs": [
    {
     "name": "stdout",
     "output_type": "stream",
     "text": [
      "1\n",
      "2\n",
      "3\n",
      "4\n",
      "5\n"
     ]
    }
   ],
   "source": [
    "## while loop with = \n",
    "\n",
    "a=1 \n",
    "    \n",
    "while  a<=5:   #if true it will go to loop\n",
    "    print(a)\n",
    "    a=a+1"
   ]
  },
  {
   "cell_type": "code",
   "execution_count": 78,
   "id": "fdf58867",
   "metadata": {},
   "outputs": [],
   "source": [
    "### for loop (range concept)"
   ]
  },
  {
   "cell_type": "code",
   "execution_count": 79,
   "id": "618e133c",
   "metadata": {},
   "outputs": [
    {
     "data": {
      "text/plain": [
       "[0, 1, 2, 3, 4, 5, 6, 7, 8, 9]"
      ]
     },
     "execution_count": 79,
     "metadata": {},
     "output_type": "execute_result"
    }
   ],
   "source": [
    "list(range(10))"
   ]
  },
  {
   "cell_type": "code",
   "execution_count": 80,
   "id": "6029e73c",
   "metadata": {},
   "outputs": [
    {
     "data": {
      "text/plain": [
       "[10, 11, 12, 13, 14]"
      ]
     },
     "execution_count": 80,
     "metadata": {},
     "output_type": "execute_result"
    }
   ],
   "source": [
    "list(range(10,15))"
   ]
  },
  {
   "cell_type": "code",
   "execution_count": 326,
   "id": "bddbeb20",
   "metadata": {},
   "outputs": [
    {
     "data": {
      "text/plain": [
       "[10, 12, 14]"
      ]
     },
     "execution_count": 326,
     "metadata": {},
     "output_type": "execute_result"
    }
   ],
   "source": [
    "list(range(10,15,2))  # it will display based on 2nd value given."
   ]
  },
  {
   "cell_type": "code",
   "execution_count": 85,
   "id": "ad26ed1a",
   "metadata": {},
   "outputs": [
    {
     "name": "stdout",
     "output_type": "stream",
     "text": [
      "0\n",
      "1\n",
      "2\n",
      "3\n",
      "4\n"
     ]
    }
   ],
   "source": [
    "for i in range(5):\n",
    "    print(i)"
   ]
  },
  {
   "cell_type": "code",
   "execution_count": 86,
   "id": "17900d87",
   "metadata": {},
   "outputs": [
    {
     "name": "stdout",
     "output_type": "stream",
     "text": [
      "Hello\n",
      "welcome\n",
      "to\n",
      "Tamilboomi\n"
     ]
    }
   ],
   "source": [
    "a=  [\"Hello\",\"welcome\",\"to\",\"Tamilboomi\"]\n",
    "for i in a:\n",
    "    print(i)"
   ]
  },
  {
   "cell_type": "code",
   "execution_count": 248,
   "id": "838c8b0b",
   "metadata": {
    "scrolled": true
   },
   "outputs": [
    {
     "name": "stdout",
     "output_type": "stream",
     "text": [
      "['hello', 'welcome', 'to', 'tamilboomi,', 'today', 'we', 'are', 'learning', 'python']\n",
      "Yes python has occured\n"
     ]
    }
   ],
   "source": [
    "a=\"hello welcome to tamilboomi, today we are learning python\"\n",
    "\n",
    "b=a.split(\" \")                          # split the a variable based on space\n",
    "print(b)\n",
    "\n",
    "for i in b:                             # for loop for splitted values\n",
    "    if i ==\"python\":                    #in for loop finding above splited variable having python word.\n",
    "        print(\"Yes python has occured\")"
   ]
  },
  {
   "cell_type": "code",
   "execution_count": 246,
   "id": "1acc8102",
   "metadata": {},
   "outputs": [],
   "source": [
    "a = {\"name\" : \"dinesh\", \"age\": 12, \"location\" : \"chennai\"}"
   ]
  },
  {
   "cell_type": "code",
   "execution_count": 247,
   "id": "c1251826",
   "metadata": {},
   "outputs": [
    {
     "name": "stdout",
     "output_type": "stream",
     "text": [
      "name\n",
      "age\n",
      "location\n"
     ]
    }
   ],
   "source": [
    "for i in a.keys():\n",
    "    print(i)"
   ]
  },
  {
   "cell_type": "code",
   "execution_count": 102,
   "id": "75d59d8a",
   "metadata": {},
   "outputs": [
    {
     "name": "stdout",
     "output_type": "stream",
     "text": [
      "dinesh\n",
      "12\n",
      "chennai\n"
     ]
    }
   ],
   "source": [
    "for i in a.values():\n",
    "    print(i)"
   ]
  },
  {
   "cell_type": "code",
   "execution_count": 110,
   "id": "8a731c83",
   "metadata": {},
   "outputs": [
    {
     "name": "stdout",
     "output_type": "stream",
     "text": [
      "key is : name\n",
      "values is : dinesh\n",
      "key is : age\n",
      "values is : 12\n",
      "key is : location\n",
      "values is : chennai\n"
     ]
    }
   ],
   "source": [
    "for k,v in a.items():\n",
    "    print(f\"key is : {f}\")\n",
    "    print(f\"values is : {v}\")\n"
   ]
  },
  {
   "cell_type": "code",
   "execution_count": 111,
   "id": "0969d871",
   "metadata": {},
   "outputs": [],
   "source": [
    "## assignment\n",
    "## Need result like this a=[12,14,16,18]"
   ]
  },
  {
   "cell_type": "code",
   "execution_count": 341,
   "id": "97f4b4c8",
   "metadata": {},
   "outputs": [
    {
     "name": "stdout",
     "output_type": "stream",
     "text": [
      "11\n",
      "13\n",
      "15\n",
      "17\n",
      "19\n",
      "[11, 13, 15, 17, 19]\n"
     ]
    }
   ],
   "source": [
    "l =[]\n",
    "for i in range(10,20):    # in range of 10 to 20 finding odd/even numbers \n",
    "    if i % 2 == 1:        # 0 will give even numbers  , 1 will give odd numbers\n",
    "        print(i)\n",
    "        l.append(i)\n",
    "       #print(i) #1\n",
    "    #print(i) #2\n",
    "    \n",
    "print(l) "
   ]
  },
  {
   "cell_type": "code",
   "execution_count": 120,
   "id": "1926fdef",
   "metadata": {},
   "outputs": [],
   "source": [
    "## a=[\"test@gmail.com\" ,\"kumar@yahoo.com\" , \"kiran@gmail.com\"]\n",
    "## output 1 =[\"test\",\"kiran\",\"kumar\"]\n",
    "## output 2 =[\"gamil\",\"yahoo\"]\n",
    "\n",
    "# Task 1"
   ]
  },
  {
   "cell_type": "code",
   "execution_count": 277,
   "id": "4fd3cc30",
   "metadata": {},
   "outputs": [
    {
     "name": "stdout",
     "output_type": "stream",
     "text": [
      "['test', 'kumar', 'kiran']\n"
     ]
    }
   ],
   "source": [
    "a=[\"test@gmail.com\" ,\"kumar@yahoo.com\" , \"kiran@gmail.com\"]\n",
    "l= []\n",
    "for i in a:\n",
    "    splitt = (i.split(\"@\")[0])\n",
    "    l.append(splitt)\n",
    "\n",
    "print(l)"
   ]
  },
  {
   "cell_type": "code",
   "execution_count": 281,
   "id": "9611363e",
   "metadata": {},
   "outputs": [
    {
     "name": "stdout",
     "output_type": "stream",
     "text": [
      "['yahoo.com', 'gmail.com']\n"
     ]
    }
   ],
   "source": [
    "aq=[\"test@gmail.com\" ,\"kumar@yahoo.com\" , \"kiran@gmail.com\"]\n",
    "l= []\n",
    "for i in aq:\n",
    "    splitt = (i.split(\"@\")[1])\n",
    "    l.append(splitt)\n",
    "\n",
    "print(list(set(l)))"
   ]
  },
  {
   "cell_type": "code",
   "execution_count": 121,
   "id": "ebd474f8",
   "metadata": {},
   "outputs": [],
   "source": [
    "## a=[\"apple\",\"apple\",\"mango\",\"mango\",\"orange\"]\n",
    "## output ={\"apple\":2, \"mango\" :2, \"orange\":1}\n",
    "## unique fruit list =[\"apple\",\"mango\",\"orange\"]\n",
    "## duplicate fruit list [\"apple\",\"mango\"]\n",
    "\n",
    "# Task 2"
   ]
  },
  {
   "cell_type": "code",
   "execution_count": 346,
   "id": "50932f65",
   "metadata": {},
   "outputs": [
    {
     "name": "stdout",
     "output_type": "stream",
     "text": [
      "<class 'list'>\n"
     ]
    }
   ],
   "source": [
    "a=[\"apple\",\"apple\",\"mango\",\"mango\",\"orange\"]\n",
    "print(type(a))\n"
   ]
  },
  {
   "cell_type": "code",
   "execution_count": 347,
   "id": "19f784fc",
   "metadata": {},
   "outputs": [
    {
     "name": "stdout",
     "output_type": "stream",
     "text": [
      "['apple', 'mango', 'orange']\n"
     ]
    }
   ],
   "source": [
    "## To show only unique values\n",
    "b=(list(set(a)))\n",
    "print(b)"
   ]
  },
  {
   "cell_type": "code",
   "execution_count": 348,
   "id": "d628852c",
   "metadata": {},
   "outputs": [
    {
     "name": "stdout",
     "output_type": "stream",
     "text": [
      "apple:1\n",
      "apple:2\n",
      "mango:1\n",
      "mango:2\n",
      "orange:1\n"
     ]
    }
   ],
   "source": [
    "# declared 3 variable as zero and using them into loop to find number of accurences and increased the count accordingly \n",
    "\n",
    "ant =0\n",
    "mnt =0\n",
    "ont =0\n",
    "for i in a:\n",
    "    if i ==\"apple\":\n",
    "        ant =ant+1\n",
    "        print(f\"apple:{ant}\")\n",
    "    elif i ==\"mango\":\n",
    "        mnt =mnt+1\n",
    "        print(f\"mango:{mnt}\")\n",
    "    elif i ==\"orange\":\n",
    "        ont =ont+1\n",
    "        print(f\"orange:{ont}\")\n",
    "    else:\n",
    "        print(\"False\")\n"
   ]
  },
  {
   "cell_type": "code",
   "execution_count": 349,
   "id": "2814c1ce",
   "metadata": {},
   "outputs": [
    {
     "name": "stdout",
     "output_type": "stream",
     "text": [
      "[2, 2, 1]\n"
     ]
    }
   ],
   "source": [
    "\"\"\"\n",
    "making list for above finding which is having count of each fruit \n",
    "(note: when making list for intergers put doble open & close brackets)\n",
    "\"\"\"\n",
    "c = list((ant,mnt,ont))\n",
    "print(c)"
   ]
  },
  {
   "cell_type": "code",
   "execution_count": 350,
   "id": "896c19f3",
   "metadata": {},
   "outputs": [
    {
     "name": "stdout",
     "output_type": "stream",
     "text": [
      "{'apple': 2, 'mango': 2, 'orange': 1}\n"
     ]
    }
   ],
   "source": [
    "# making dictionary by combaining b & c variables.\n",
    "d=dict(zip(b,c))\n",
    "print(d)"
   ]
  },
  {
   "cell_type": "code",
   "execution_count": 351,
   "id": "656ce8a2",
   "metadata": {},
   "outputs": [
    {
     "name": "stdout",
     "output_type": "stream",
     "text": [
      "['apple', 'mango']\n"
     ]
    }
   ],
   "source": [
    "# to find duplcate values\n",
    "\n",
    "l=[]\n",
    "for i in d:\n",
    "    if i ==\"apple\" and d.get(\"apple\")>1:   #find apple and finding values of apple >1 or not and assing the values to \"app\"\n",
    "        #print(i)\n",
    "        app=i\n",
    "        l.append(app)\n",
    "    elif i ==\"mango\" and d.get(\"mango\")>1:     #find mango and finding values of mango >1 or not and assing the values to \"mang\"\n",
    "        #print(i)\n",
    "        mang=i\n",
    "        l.append(mang)\n",
    "    elif i==\"orange\" and d.get(\"orange\") >1:    #find orange and finding values of orange >1 or not and assing the values to \"oran\"\n",
    "        print(i)\n",
    "        oran=i\n",
    "        l.append(oran)\n",
    "        \n",
    "print(l)\n"
   ]
  }
 ],
 "metadata": {
  "kernelspec": {
   "display_name": "Python 3 (ipykernel)",
   "language": "python",
   "name": "python3"
  },
  "language_info": {
   "codemirror_mode": {
    "name": "ipython",
    "version": 3
   },
   "file_extension": ".py",
   "mimetype": "text/x-python",
   "name": "python",
   "nbconvert_exporter": "python",
   "pygments_lexer": "ipython3",
   "version": "3.9.13"
  }
 },
 "nbformat": 4,
 "nbformat_minor": 5
}
