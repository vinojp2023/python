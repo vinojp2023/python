{
 "cells": [
  {
   "cell_type": "code",
   "execution_count": 1,
   "id": "e65498a6",
   "metadata": {},
   "outputs": [],
   "source": [
    "# 2 records of people . \n",
    "\n",
    "name_1=\"kiran\"\n",
    "age_1=\"25\"\n",
    "location_1=\"chennai\"\n",
    "name_2=\"kumar\"\n",
    "age_2=\"28\"\n",
    "location_2=\"maduari\""
   ]
  },
  {
   "cell_type": "code",
   "execution_count": 126,
   "id": "10591259",
   "metadata": {},
   "outputs": [],
   "source": [
    "a=[[\"kiran\",\"25\",\"chennai\"],[\"kumar\",\"28\",\"madurai\"]]  #this is list values "
   ]
  },
  {
   "cell_type": "code",
   "execution_count": 2,
   "id": "1efb4653",
   "metadata": {},
   "outputs": [],
   "source": [
    "a=[\"kiran\",\"25\",\"chennai\"]  # single list "
   ]
  },
  {
   "cell_type": "code",
   "execution_count": 3,
   "id": "c3a946f8",
   "metadata": {},
   "outputs": [
    {
     "name": "stdout",
     "output_type": "stream",
     "text": [
      "<class 'list'>\n"
     ]
    }
   ],
   "source": [
    "print(type(a))  #finding types"
   ]
  },
  {
   "cell_type": "code",
   "execution_count": 4,
   "id": "289ebe4c",
   "metadata": {},
   "outputs": [
    {
     "name": "stdout",
     "output_type": "stream",
     "text": [
      "True\n"
     ]
    }
   ],
   "source": [
    "print(isinstance(a,list))  # verifing the type"
   ]
  },
  {
   "cell_type": "code",
   "execution_count": 8,
   "id": "59aeb417",
   "metadata": {},
   "outputs": [],
   "source": [
    "#length\n",
    "#min\n",
    "#max\n",
    "#first index\n",
    "#reverse a list"
   ]
  },
  {
   "cell_type": "code",
   "execution_count": 5,
   "id": "ff44a0d8",
   "metadata": {},
   "outputs": [
    {
     "name": "stdout",
     "output_type": "stream",
     "text": [
      "3\n",
      "kiran\n",
      "25\n",
      "kiran\n",
      "['25', 'chennai', 'kiran']\n"
     ]
    }
   ],
   "source": [
    "print(len(a))   # finding len, min, max, index of 1st value , sorting\n",
    "print(max(a))\n",
    "print(min(a))\n",
    "print(a[0])\n",
    "print(sorted(a))"
   ]
  },
  {
   "cell_type": "code",
   "execution_count": 130,
   "id": "ba82660a",
   "metadata": {},
   "outputs": [
    {
     "ename": "TypeError",
     "evalue": "'<' not supported between instances of 'int' and 'str'",
     "output_type": "error",
     "traceback": [
      "\u001b[1;31m---------------------------------------------------------------------------\u001b[0m",
      "\u001b[1;31mTypeError\u001b[0m                                 Traceback (most recent call last)",
      "\u001b[1;32m~\\AppData\\Local\\Temp\\ipykernel_7676\\342971871.py\u001b[0m in \u001b[0;36m<module>\u001b[1;34m\u001b[0m\n\u001b[0;32m      1\u001b[0m \u001b[0ma\u001b[0m \u001b[1;33m=\u001b[0m \u001b[1;33m[\u001b[0m\u001b[1;34m\"kiran\"\u001b[0m \u001b[1;33m,\u001b[0m\u001b[1;36m25\u001b[0m\u001b[1;33m,\u001b[0m\u001b[1;34m\"chennai\"\u001b[0m\u001b[1;33m]\u001b[0m  \u001b[1;31m# sorting list\u001b[0m\u001b[1;33m\u001b[0m\u001b[1;33m\u001b[0m\u001b[0m\n\u001b[1;32m----> 2\u001b[1;33m \u001b[0mprint\u001b[0m\u001b[1;33m(\u001b[0m\u001b[0msorted\u001b[0m\u001b[1;33m(\u001b[0m\u001b[0ma\u001b[0m\u001b[1;33m)\u001b[0m\u001b[1;33m)\u001b[0m\u001b[1;33m\u001b[0m\u001b[1;33m\u001b[0m\u001b[0m\n\u001b[0m",
      "\u001b[1;31mTypeError\u001b[0m: '<' not supported between instances of 'int' and 'str'"
     ]
    }
   ],
   "source": [
    "a = [\"kiran\" ,25,\"chennai\"]  # sorting list is not supported because 25 alone is different value.\n",
    "print(sorted(a))"
   ]
  },
  {
   "cell_type": "code",
   "execution_count": 6,
   "id": "5c0a4aaf",
   "metadata": {},
   "outputs": [
    {
     "name": "stdout",
     "output_type": "stream",
     "text": [
      "[5, 54, 60, 100]\n"
     ]
    }
   ],
   "source": [
    "#Sorting the values.\n",
    "\n",
    "a=[100,5,60,54]\n",
    "print(sorted(a))    "
   ]
  },
  {
   "cell_type": "code",
   "execution_count": 133,
   "id": "bcbad819",
   "metadata": {},
   "outputs": [
    {
     "name": "stdout",
     "output_type": "stream",
     "text": [
      "['S', 'T', 'a', 'a', 'c', 'd', 'e', 'h', 'i', 'k', 'l', 'n', 'n', 'r', 'u']\n"
     ]
    }
   ],
   "source": [
    "a=\"SachinTendulkar\"\n",
    "print(sorted(a))"
   ]
  },
  {
   "cell_type": "code",
   "execution_count": 48,
   "id": "5290759a",
   "metadata": {},
   "outputs": [
    {
     "name": "stdout",
     "output_type": "stream",
     "text": [
      "[100, 5, 60, 54, 2000]\n"
     ]
    }
   ],
   "source": [
    "a=[100,5,60,54]\n",
    "a.append(2000)  #add at last index\n",
    "print(a)"
   ]
  },
  {
   "cell_type": "code",
   "execution_count": 49,
   "id": "c1951a76",
   "metadata": {},
   "outputs": [
    {
     "name": "stdout",
     "output_type": "stream",
     "text": [
      "[100, 5, 5000, 60, 54, 2000]\n"
     ]
    }
   ],
   "source": [
    "a.insert(2,5000)  #add at particular index\n",
    "print(a)"
   ]
  },
  {
   "cell_type": "code",
   "execution_count": 51,
   "id": "d8b739d4",
   "metadata": {},
   "outputs": [
    {
     "name": "stdout",
     "output_type": "stream",
     "text": [
      "[100, 5, 5000, 60, 2000]\n"
     ]
    }
   ],
   "source": [
    "a.remove(54) # to remove particular value\n",
    "print(a)"
   ]
  },
  {
   "cell_type": "code",
   "execution_count": 52,
   "id": "9f167726",
   "metadata": {},
   "outputs": [
    {
     "name": "stdout",
     "output_type": "stream",
     "text": [
      "[100, 5000, 60, 2000]\n"
     ]
    }
   ],
   "source": [
    "del a[1]\n",
    "print(a)"
   ]
  },
  {
   "cell_type": "code",
   "execution_count": 53,
   "id": "ed21cad7",
   "metadata": {},
   "outputs": [
    {
     "name": "stdout",
     "output_type": "stream",
     "text": [
      "[100, 5000, 60]\n",
      "2000\n"
     ]
    }
   ],
   "source": [
    "b=a.pop()\n",
    "print(a)\n",
    "print(b)"
   ]
  },
  {
   "cell_type": "code",
   "execution_count": 41,
   "id": "0add7eb1",
   "metadata": {},
   "outputs": [
    {
     "name": "stdout",
     "output_type": "stream",
     "text": [
      "[1, 2, 3, 4, 5, 6]\n"
     ]
    }
   ],
   "source": [
    "a=[1,2,3]\n",
    "b=[4,5,6]\n",
    "a.extend(b)\n",
    "print(a)"
   ]
  },
  {
   "cell_type": "code",
   "execution_count": 38,
   "id": "13c25fad",
   "metadata": {},
   "outputs": [
    {
     "name": "stdout",
     "output_type": "stream",
     "text": [
      "[1, 2, 3, [4, 5, 6]]\n"
     ]
    }
   ],
   "source": [
    "a=[1,2,3]\n",
    "b=[4,5,6]\n",
    "a.append(b)\n",
    "print(a)"
   ]
  },
  {
   "cell_type": "code",
   "execution_count": 39,
   "id": "8532aa8e",
   "metadata": {},
   "outputs": [
    {
     "name": "stdout",
     "output_type": "stream",
     "text": [
      "[1, 2, 3, 4, 5, 6]\n"
     ]
    }
   ],
   "source": [
    "a=[1,2,3]\n",
    "b=[4,5,6]\n",
    "print(a+b)"
   ]
  },
  {
   "cell_type": "code",
   "execution_count": 42,
   "id": "43ca34e6",
   "metadata": {},
   "outputs": [],
   "source": [
    "##copy in python\n",
    "## shallow copy --> s -> shared memory\n",
    "## deep copy --> d --> different memory"
   ]
  },
  {
   "cell_type": "code",
   "execution_count": 44,
   "id": "928f00e4",
   "metadata": {},
   "outputs": [
    {
     "name": "stdout",
     "output_type": "stream",
     "text": [
      "[1, 2, 3, 4]\n",
      "[1, 2, 3, 4]\n"
     ]
    }
   ],
   "source": [
    "##shallow copy\n",
    "a=[1,2,3]\n",
    "b=a\n",
    "a.append(4)\n",
    "print(a)\n",
    "print(b)"
   ]
  },
  {
   "cell_type": "code",
   "execution_count": 45,
   "id": "bf58d29c",
   "metadata": {},
   "outputs": [
    {
     "name": "stdout",
     "output_type": "stream",
     "text": [
      "[1, 2, 3, 4]\n",
      "[1, 2, 3]\n"
     ]
    }
   ],
   "source": [
    "##deep copy\n",
    "a=[1,2,3]\n",
    "b=a.copy()\n",
    "a.append(4)\n",
    "print(a)\n",
    "print(b)"
   ]
  },
  {
   "cell_type": "code",
   "execution_count": 60,
   "id": "ec0124c6",
   "metadata": {},
   "outputs": [
    {
     "name": "stdout",
     "output_type": "stream",
     "text": [
      "[5, 4, 3, 2, 1]\n"
     ]
    }
   ],
   "source": [
    "a=[1, 2, 3, 4,5]\n",
    "a.reverse()\n",
    "print(a)"
   ]
  },
  {
   "cell_type": "code",
   "execution_count": 61,
   "id": "996c0f83",
   "metadata": {},
   "outputs": [
    {
     "data": {
      "text/plain": [
       "[5, 4, 3]"
      ]
     },
     "execution_count": 61,
     "metadata": {},
     "output_type": "execute_result"
    }
   ],
   "source": [
    "a[0:3]"
   ]
  },
  {
   "cell_type": "code",
   "execution_count": 62,
   "id": "83282357",
   "metadata": {},
   "outputs": [
    {
     "data": {
      "text/plain": [
       "2"
      ]
     },
     "execution_count": 62,
     "metadata": {},
     "output_type": "execute_result"
    }
   ],
   "source": [
    "a.index(3)  # index is supported in list, find ,rfind is not supported"
   ]
  },
  {
   "cell_type": "code",
   "execution_count": 64,
   "id": "d5869207",
   "metadata": {},
   "outputs": [
    {
     "ename": "AttributeError",
     "evalue": "'list' object has no attribute 'rfind'",
     "output_type": "error",
     "traceback": [
      "\u001b[1;31m---------------------------------------------------------------------------\u001b[0m",
      "\u001b[1;31mAttributeError\u001b[0m                            Traceback (most recent call last)",
      "\u001b[1;32m~\\AppData\\Local\\Temp\\ipykernel_7676\\53602798.py\u001b[0m in \u001b[0;36m<module>\u001b[1;34m\u001b[0m\n\u001b[1;32m----> 1\u001b[1;33m \u001b[0ma\u001b[0m\u001b[1;33m.\u001b[0m\u001b[0mrfind\u001b[0m\u001b[1;33m(\u001b[0m\u001b[1;36m3\u001b[0m\u001b[1;33m)\u001b[0m \u001b[1;31m# index is supported in list, find ,rfind is not supported\u001b[0m\u001b[1;33m\u001b[0m\u001b[1;33m\u001b[0m\u001b[0m\n\u001b[0m",
      "\u001b[1;31mAttributeError\u001b[0m: 'list' object has no attribute 'rfind'"
     ]
    }
   ],
   "source": [
    "a.rfind(3) # index is supported in list, find ,rfind is not supported"
   ]
  },
  {
   "cell_type": "code",
   "execution_count": 65,
   "id": "cc5aa29c",
   "metadata": {},
   "outputs": [],
   "source": [
    "a=[[\"kiran\",\"25\",\"chennai\"],[\"kumar\",\"28\",\"madurai\"]]"
   ]
  },
  {
   "cell_type": "code",
   "execution_count": 74,
   "id": "e5f4142a",
   "metadata": {},
   "outputs": [
    {
     "name": "stdout",
     "output_type": "stream",
     "text": [
      "chennai\n"
     ]
    }
   ],
   "source": [
    "print(a[0][2])"
   ]
  },
  {
   "cell_type": "code",
   "execution_count": 75,
   "id": "6ad5491b",
   "metadata": {},
   "outputs": [
    {
     "name": "stdout",
     "output_type": "stream",
     "text": [
      "madurai\n"
     ]
    }
   ],
   "source": [
    "print(a[1][2])"
   ]
  },
  {
   "cell_type": "code",
   "execution_count": 77,
   "id": "b2e647b8",
   "metadata": {},
   "outputs": [
    {
     "name": "stdout",
     "output_type": "stream",
     "text": [
      "<class 'tuple'>\n",
      "True\n"
     ]
    }
   ],
   "source": [
    "a=(1,2,3)\n",
    "#type\n",
    "#isinstance\n",
    "print(type(a))\n",
    "print(isinstance(a,tuple))"
   ]
  },
  {
   "cell_type": "code",
   "execution_count": 78,
   "id": "0ff76c45",
   "metadata": {},
   "outputs": [
    {
     "name": "stdout",
     "output_type": "stream",
     "text": [
      "1\n",
      "1\n",
      "3\n"
     ]
    }
   ],
   "source": [
    "print(min(a))\n",
    "print(a[0])\n",
    "print(len(a))"
   ]
  },
  {
   "cell_type": "code",
   "execution_count": 82,
   "id": "20287c96",
   "metadata": {},
   "outputs": [
    {
     "name": "stdout",
     "output_type": "stream",
     "text": [
      "(1, 2, 3)\n"
     ]
    }
   ],
   "source": [
    "b=a   # shallow copy\n",
    "print(b)"
   ]
  },
  {
   "cell_type": "code",
   "execution_count": 80,
   "id": "1a0d13ee",
   "metadata": {},
   "outputs": [
    {
     "ename": "AttributeError",
     "evalue": "'tuple' object has no attribute 'copy'",
     "output_type": "error",
     "traceback": [
      "\u001b[1;31m---------------------------------------------------------------------------\u001b[0m",
      "\u001b[1;31mAttributeError\u001b[0m                            Traceback (most recent call last)",
      "\u001b[1;32m~\\AppData\\Local\\Temp\\ipykernel_7676\\1674530002.py\u001b[0m in \u001b[0;36m<module>\u001b[1;34m\u001b[0m\n\u001b[1;32m----> 1\u001b[1;33m \u001b[0mb\u001b[0m\u001b[1;33m=\u001b[0m\u001b[0ma\u001b[0m\u001b[1;33m.\u001b[0m\u001b[0mcopy\u001b[0m\u001b[1;33m\u001b[0m\u001b[1;33m\u001b[0m\u001b[0m\n\u001b[0m",
      "\u001b[1;31mAttributeError\u001b[0m: 'tuple' object has no attribute 'copy'"
     ]
    }
   ],
   "source": [
    "b=a.copy    #in list we can do this deep copy but in tuple this function cannot be done the deep copy"
   ]
  },
  {
   "cell_type": "code",
   "execution_count": 81,
   "id": "b6e91d85",
   "metadata": {},
   "outputs": [],
   "source": [
    "## bracket \n",
    "## list mutable (changeable), tuple immutable (not changeable)\n",
    "## tuple -faster"
   ]
  },
  {
   "cell_type": "code",
   "execution_count": 83,
   "id": "14e90772",
   "metadata": {},
   "outputs": [],
   "source": [
    "a={1,2,3}"
   ]
  },
  {
   "cell_type": "code",
   "execution_count": 84,
   "id": "30cb3e79",
   "metadata": {},
   "outputs": [
    {
     "name": "stdout",
     "output_type": "stream",
     "text": [
      "<class 'set'>\n"
     ]
    }
   ],
   "source": [
    "print(type(a))"
   ]
  },
  {
   "cell_type": "code",
   "execution_count": 85,
   "id": "03d66b7c",
   "metadata": {},
   "outputs": [
    {
     "name": "stdout",
     "output_type": "stream",
     "text": [
      "True\n"
     ]
    }
   ],
   "source": [
    "print(isinstance(a,set))"
   ]
  },
  {
   "cell_type": "code",
   "execution_count": 86,
   "id": "54542200",
   "metadata": {},
   "outputs": [
    {
     "name": "stdout",
     "output_type": "stream",
     "text": [
      "{1, 2, 3}\n"
     ]
    }
   ],
   "source": [
    "a={1,1,1,1,1,2,2,2,2,2,3,3,3,3,3,3}\n",
    "print(a)"
   ]
  },
  {
   "cell_type": "code",
   "execution_count": 87,
   "id": "cecb3447",
   "metadata": {},
   "outputs": [],
   "source": [
    "a=[\"test\",\"test\",\"try\",\"hello\",\"hello\"]   # to remove duplicate from list"
   ]
  },
  {
   "cell_type": "code",
   "execution_count": 94,
   "id": "23694998",
   "metadata": {},
   "outputs": [
    {
     "name": "stdout",
     "output_type": "stream",
     "text": [
      "['test', 'hello', 'try']\n"
     ]
    }
   ],
   "source": [
    "print(list(set(a)))"
   ]
  },
  {
   "cell_type": "code",
   "execution_count": 95,
   "id": "6aa08bb3",
   "metadata": {},
   "outputs": [
    {
     "name": "stdout",
     "output_type": "stream",
     "text": [
      "('test', 'hello', 'try')\n"
     ]
    }
   ],
   "source": [
    "print(tuple(set(a)))"
   ]
  },
  {
   "cell_type": "code",
   "execution_count": 96,
   "id": "fdd8c2b3",
   "metadata": {},
   "outputs": [],
   "source": [
    "a=(\"test\",\"test\",\"try\",\"hello\",\"hello\")  #remove duplicate from tuple"
   ]
  },
  {
   "cell_type": "code",
   "execution_count": 97,
   "id": "b60353e8",
   "metadata": {},
   "outputs": [
    {
     "name": "stdout",
     "output_type": "stream",
     "text": [
      "{'test', 'hello', 'try'}\n"
     ]
    }
   ],
   "source": [
    "print(set(a))"
   ]
  },
  {
   "cell_type": "code",
   "execution_count": 98,
   "id": "57ae554b",
   "metadata": {},
   "outputs": [
    {
     "name": "stdout",
     "output_type": "stream",
     "text": [
      "['test', 'hello', 'try']\n"
     ]
    }
   ],
   "source": [
    "print(list(set(a)))"
   ]
  },
  {
   "cell_type": "code",
   "execution_count": 99,
   "id": "3daeffaf",
   "metadata": {},
   "outputs": [
    {
     "name": "stdout",
     "output_type": "stream",
     "text": [
      "{50, 20, 5, 6, 200, 10}\n"
     ]
    }
   ],
   "source": [
    "a={50,20,10,5,6,200}    # by default set will order the data. \n",
    "print(a)"
   ]
  },
  {
   "cell_type": "code",
   "execution_count": 100,
   "id": "105f88e2",
   "metadata": {},
   "outputs": [
    {
     "name": "stdout",
     "output_type": "stream",
     "text": [
      "5\n",
      "6\n",
      "[5, 6, 10, 20, 50, 200]\n"
     ]
    }
   ],
   "source": [
    "print(min(a))\n",
    "print(len(a))\n",
    "print(sorted(a))"
   ]
  },
  {
   "cell_type": "code",
   "execution_count": 101,
   "id": "7b2ddf25",
   "metadata": {},
   "outputs": [
    {
     "ename": "TypeError",
     "evalue": "'set' object is not subscriptable",
     "output_type": "error",
     "traceback": [
      "\u001b[1;31m---------------------------------------------------------------------------\u001b[0m",
      "\u001b[1;31mTypeError\u001b[0m                                 Traceback (most recent call last)",
      "\u001b[1;32m~\\AppData\\Local\\Temp\\ipykernel_7676\\3848010232.py\u001b[0m in \u001b[0;36m<module>\u001b[1;34m\u001b[0m\n\u001b[1;32m----> 1\u001b[1;33m \u001b[0mprint\u001b[0m\u001b[1;33m(\u001b[0m\u001b[0ma\u001b[0m\u001b[1;33m[\u001b[0m\u001b[1;36m0\u001b[0m\u001b[1;33m]\u001b[0m\u001b[1;33m)\u001b[0m\u001b[1;33m\u001b[0m\u001b[1;33m\u001b[0m\u001b[0m\n\u001b[0m",
      "\u001b[1;31mTypeError\u001b[0m: 'set' object is not subscriptable"
     ]
    }
   ],
   "source": [
    "print(a[0])  # index completly remvoed from set."
   ]
  },
  {
   "cell_type": "code",
   "execution_count": 109,
   "id": "49f8a9a8",
   "metadata": {},
   "outputs": [
    {
     "name": "stdout",
     "output_type": "stream",
     "text": [
      "{1, 2, 3, 4}\n"
     ]
    }
   ],
   "source": [
    "a={1,2,3}\n",
    "a.add(4)\n",
    "print(a)"
   ]
  },
  {
   "cell_type": "code",
   "execution_count": 110,
   "id": "4ef54025",
   "metadata": {},
   "outputs": [
    {
     "name": "stdout",
     "output_type": "stream",
     "text": [
      "{1, 2, 3}\n"
     ]
    }
   ],
   "source": [
    "a.remove(4)\n",
    "print(a)"
   ]
  },
  {
   "cell_type": "code",
   "execution_count": 111,
   "id": "7e83862d",
   "metadata": {},
   "outputs": [
    {
     "name": "stdout",
     "output_type": "stream",
     "text": [
      "1\n",
      "{2, 3}\n"
     ]
    }
   ],
   "source": [
    "b=a.pop()\n",
    "print(b)\n",
    "print(a)"
   ]
  },
  {
   "cell_type": "code",
   "execution_count": 112,
   "id": "8e8871dc",
   "metadata": {},
   "outputs": [],
   "source": [
    "###\n",
    "a={1,2,3,4,5}\n",
    "b={4,5,6,7,8}"
   ]
  },
  {
   "cell_type": "code",
   "execution_count": 113,
   "id": "8e78c0f6",
   "metadata": {},
   "outputs": [
    {
     "name": "stdout",
     "output_type": "stream",
     "text": [
      "{1, 2, 3, 4, 5, 6, 7, 8}\n",
      "{1, 2, 3, 4, 5, 6, 7, 8}\n"
     ]
    }
   ],
   "source": [
    "print(a.union(b))   # to union all afer removed duplicate\n",
    "print(a | b)"
   ]
  },
  {
   "cell_type": "code",
   "execution_count": 114,
   "id": "771c6d6b",
   "metadata": {},
   "outputs": [
    {
     "name": "stdout",
     "output_type": "stream",
     "text": [
      "{4, 5}\n",
      "{4, 5}\n"
     ]
    }
   ],
   "source": [
    "print(a.intersection(b)) # common between a & b variable \n",
    "print(a & b)"
   ]
  },
  {
   "cell_type": "code",
   "execution_count": 116,
   "id": "87a0e3fc",
   "metadata": {},
   "outputs": [
    {
     "name": "stdout",
     "output_type": "stream",
     "text": [
      "{1, 2, 3}\n",
      "{1, 2, 3}\n",
      "{8, 6, 7}\n",
      "{8, 6, 7}\n"
     ]
    }
   ],
   "source": [
    "print(a.difference(b))  # which is not available in b\n",
    "print(a - b)\n",
    "print(b.difference(a)) # which is not available in a\n",
    "print(b-a)"
   ]
  },
  {
   "cell_type": "code",
   "execution_count": 122,
   "id": "eaef14c1",
   "metadata": {},
   "outputs": [
    {
     "name": "stdout",
     "output_type": "stream",
     "text": [
      "{1, 2, 3, 6, 7, 8}\n",
      "{1, 2, 3, 6, 7, 8}\n"
     ]
    }
   ],
   "source": [
    "print(a.symmetric_difference(b)) # to remove common at both a & b\n",
    "print(a^b)"
   ]
  },
  {
   "cell_type": "code",
   "execution_count": 1,
   "id": "ebb9f215",
   "metadata": {
    "scrolled": true
   },
   "outputs": [
    {
     "name": "stdout",
     "output_type": "stream",
     "text": [
      "True\n",
      "False\n",
      "False\n",
      "True\n"
     ]
    }
   ],
   "source": [
    "a= {1,2,3,4,5}\n",
    "b= {3,4}\n",
    "print(a.issuperset(b))     # a is superset of b which means b inclusive of a.\n",
    "print(b.issuperset(a))     # b is not superset a because b is just part of a. \n",
    "\n",
    "print(a.issubset(b))\n",
    "print(b.issubset(a))"
   ]
  },
  {
   "cell_type": "code",
   "execution_count": null,
   "id": "2d812030",
   "metadata": {},
   "outputs": [],
   "source": [
    "\"\"\"\n",
    "{}  set will remove duplicate by default\n",
    "[]  list helps to change the values inside\n",
    "()  tuple immutable (can't edit the values)\n",
    "\n",
    "\"\"\""
   ]
  }
 ],
 "metadata": {
  "kernelspec": {
   "display_name": "Python 3 (ipykernel)",
   "language": "python",
   "name": "python3"
  },
  "language_info": {
   "codemirror_mode": {
    "name": "ipython",
    "version": 3
   },
   "file_extension": ".py",
   "mimetype": "text/x-python",
   "name": "python",
   "nbconvert_exporter": "python",
   "pygments_lexer": "ipython3",
   "version": "3.9.13"
  }
 },
 "nbformat": 4,
 "nbformat_minor": 5
}
